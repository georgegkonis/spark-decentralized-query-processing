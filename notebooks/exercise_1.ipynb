{
 "cells": [
  {
   "metadata": {},
   "cell_type": "markdown",
   "source": "# Exercise 1",
   "id": "8237923c47662198"
  },
  {
   "metadata": {},
   "cell_type": "markdown",
   "source": "## Setup",
   "id": "6325472c0fe0f54f"
  },
  {
   "metadata": {
    "ExecuteTime": {
     "end_time": "2024-09-23T12:33:54.972297Z",
     "start_time": "2024-09-23T12:33:54.968491Z"
    }
   },
   "cell_type": "code",
   "source": [
    "from pyspark.sql import SparkSession\n",
    "from pyspark.sql import functions as F\n",
    "from pyspark.sql.types import MapType, StringType, FloatType"
   ],
   "id": "ca964da0850df86c",
   "outputs": [],
   "execution_count": 114
  },
  {
   "metadata": {
    "ExecuteTime": {
     "end_time": "2024-09-23T12:33:55.002774Z",
     "start_time": "2024-09-23T12:33:54.997806Z"
    }
   },
   "cell_type": "code",
   "source": [
    "temp_file_path = \"../data/tempm.txt\"\n",
    "hum_file_path = \"../data/hum.txt\""
   ],
   "id": "cb39c85e476a6027",
   "outputs": [],
   "execution_count": 115
  },
  {
   "metadata": {
    "ExecuteTime": {
     "end_time": "2024-09-23T12:33:55.215153Z",
     "start_time": "2024-09-23T12:33:55.049182Z"
    }
   },
   "cell_type": "code",
   "source": [
    "spark = SparkSession.builder.appName(\"Exercise 1\").getOrCreate()\n",
    "\n",
    "spark"
   ],
   "id": "6254cac916e4c2b6",
   "outputs": [
    {
     "data": {
      "text/plain": [
       "<pyspark.sql.session.SparkSession at 0x285c9797210>"
      ],
      "text/html": [
       "\n",
       "            <div>\n",
       "                <p><b>SparkSession - in-memory</b></p>\n",
       "                \n",
       "        <div>\n",
       "            <p><b>SparkContext</b></p>\n",
       "\n",
       "            <p><a href=\"http://George-Desktop.mshome.net:4046\">Spark UI</a></p>\n",
       "\n",
       "            <dl>\n",
       "              <dt>Version</dt>\n",
       "                <dd><code>v3.4.1</code></dd>\n",
       "              <dt>Master</dt>\n",
       "                <dd><code>local[*]</code></dd>\n",
       "              <dt>AppName</dt>\n",
       "                <dd><code>Exercise 1</code></dd>\n",
       "            </dl>\n",
       "        </div>\n",
       "        \n",
       "            </div>\n",
       "        "
      ]
     },
     "execution_count": 116,
     "metadata": {},
     "output_type": "execute_result"
    }
   ],
   "execution_count": 116
  },
  {
   "metadata": {},
   "cell_type": "markdown",
   "source": "## Data Loading",
   "id": "f5099eb406e06c46"
  },
  {
   "metadata": {
    "ExecuteTime": {
     "end_time": "2024-09-23T12:33:55.321910Z",
     "start_time": "2024-09-23T12:33:55.245711Z"
    }
   },
   "cell_type": "code",
   "source": [
    "# Define schema for the JSON data\n",
    "schema = MapType(StringType(), StringType())\n",
    "\n",
    "# Load temperature data\n",
    "temp_df = spark.read.text(temp_file_path) \\\n",
    "    .select(F.from_json(F.col(\"value\"), schema).alias(\"json\")) \\\n",
    "    .selectExpr(\"explode(json) as (Timestamp, Temperature)\") \\\n",
    "    .withColumn(\"Timestamp\", F.to_timestamp(\"Timestamp\", \"yyyy-MM-dd'T'HH:mm:ss\")) \\\n",
    "    .withColumn(\"Temperature\", F.col(\"Temperature\").cast(\"float\"))\n",
    "\n",
    "# Load humidity data\n",
    "hum_df = spark.read.text(hum_file_path) \\\n",
    "    .select(F.from_json(F.col(\"value\"), schema).alias(\"json\")) \\\n",
    "    .selectExpr(\"explode(json) as (Timestamp, Humidity)\") \\\n",
    "    .withColumn(\"Timestamp\", F.to_timestamp(\"Timestamp\", \"yyyy-MM-dd'T'HH:mm:ss\")) \\\n",
    "    .withColumn(\"Humidity\", F.col(\"Humidity\").cast(\"float\"))"
   ],
   "id": "c66a2ec958c59500",
   "outputs": [],
   "execution_count": 117
  },
  {
   "metadata": {
    "ExecuteTime": {
     "end_time": "2024-09-23T12:33:55.424960Z",
     "start_time": "2024-09-23T12:33:55.343555Z"
    }
   },
   "cell_type": "code",
   "source": "temp_df.show(5)",
   "id": "80b7553f764db954",
   "outputs": [
    {
     "name": "stdout",
     "output_type": "stream",
     "text": [
      "+-------------------+-----------+\n",
      "|          Timestamp|Temperature|\n",
      "+-------------------+-----------+\n",
      "|2014-02-13 06:20:00|        3.0|\n",
      "|2014-02-13 13:50:00|        7.0|\n",
      "|2014-02-13 06:00:00|        2.0|\n",
      "|2014-02-13 03:00:00|        3.0|\n",
      "|2014-02-13 13:00:00|        6.0|\n",
      "+-------------------+-----------+\n",
      "only showing top 5 rows\n",
      "\n"
     ]
    }
   ],
   "execution_count": 118
  },
  {
   "metadata": {
    "ExecuteTime": {
     "end_time": "2024-09-23T12:33:55.513848Z",
     "start_time": "2024-09-23T12:33:55.447119Z"
    }
   },
   "cell_type": "code",
   "source": "hum_df.show(5)",
   "id": "84f09d3ef775229f",
   "outputs": [
    {
     "name": "stdout",
     "output_type": "stream",
     "text": [
      "+-------------------+--------+\n",
      "|          Timestamp|Humidity|\n",
      "+-------------------+--------+\n",
      "|2014-02-13 06:20:00|    93.0|\n",
      "|2014-02-13 13:50:00|    66.0|\n",
      "|2014-02-13 06:00:00|    91.0|\n",
      "|2014-02-13 03:00:00|    84.0|\n",
      "|2014-02-13 13:00:00|    62.0|\n",
      "+-------------------+--------+\n",
      "only showing top 5 rows\n",
      "\n"
     ]
    }
   ],
   "execution_count": 119
  },
  {
   "metadata": {},
   "cell_type": "markdown",
   "source": "## Queries",
   "id": "45666828db96aff9"
  },
  {
   "metadata": {},
   "cell_type": "markdown",
   "source": [
    "### Q1 - The number of days with temperature between 18°C and 22°C\n",
    "\n",
    "We'll count the days that at some point had a temperature between 18°C and 22°C."
   ],
   "id": "9d6f3df0e209f99b"
  },
  {
   "metadata": {
    "ExecuteTime": {
     "end_time": "2024-09-23T12:33:55.999425Z",
     "start_time": "2024-09-23T12:33:55.695608Z"
    }
   },
   "cell_type": "code",
   "source": [
    "any_days_count = temp_df.filter((F.col(\"Temperature\") >= 18) & (F.col(\"Temperature\") <= 22)) \\\n",
    "    .groupBy(F.col(\"Timestamp\").cast(\"date\").alias(\"date\")) \\\n",
    "    .agg(F.first(\"Temperature\").alias(\"Temperature\")) \\\n",
    "    .count()\n",
    "\n",
    "print(f\"The number of days that at some point had a temperature between 18°C and 22°C was {any_days_count}.\")"
   ],
   "id": "7e5ed7b3e3b886a8",
   "outputs": [
    {
     "name": "stdout",
     "output_type": "stream",
     "text": [
      "The number of days that at some point had a temperature between 18°C and 22°C was 26.\n"
     ]
    }
   ],
   "execution_count": 120
  },
  {
   "metadata": {},
   "cell_type": "markdown",
   "source": "As an alternative approach, we'll count the days that had an average temperature between 18°C and 22°C.",
   "id": "69ae852adbf66c1e"
  },
  {
   "metadata": {
    "ExecuteTime": {
     "end_time": "2024-09-23T12:33:56.774708Z",
     "start_time": "2024-09-23T12:33:56.065942Z"
    }
   },
   "cell_type": "code",
   "source": [
    "avg_days_count = temp_df.groupBy(F.col(\"Timestamp\").cast(\"date\").alias(\"date\")) \\\n",
    "    .agg(F.avg(\"Temperature\").alias(\"avg_temp\")) \\\n",
    "    .filter((F.col(\"avg_temp\") >= 18) & (F.col(\"avg_temp\") <= 22)) \\\n",
    "    .count()\n",
    "\n",
    "print(f\"The number of days that had an average temperature between 18°C and 22°C was {avg_days_count}.\")"
   ],
   "id": "6f5163bff62caab7",
   "outputs": [
    {
     "name": "stdout",
     "output_type": "stream",
     "text": [
      "The number of days that had an average temperature between 18°C and 22°C was 1.\n"
     ]
    }
   ],
   "execution_count": 121
  },
  {
   "metadata": {},
   "cell_type": "markdown",
   "source": [
    "### Q2 - The 10 coldest and 10 hottest days\n",
    "\n",
    "To find the coldest days, we'll get the 10 unique ones with the lowest temperatures."
   ],
   "id": "1da64592e8f210c6"
  },
  {
   "metadata": {
    "ExecuteTime": {
     "end_time": "2024-09-23T12:33:57.331133Z",
     "start_time": "2024-09-23T12:33:56.815085Z"
    }
   },
   "cell_type": "code",
   "source": [
    "coldest_days = temp_df.filter(F.col(\"Temperature\").isNotNull()) \\\n",
    "    .groupBy(F.col(\"Timestamp\").cast(\"date\").alias(\"Date\")) \\\n",
    "    .agg(F.min(\"Temperature\").alias(\"Lowest Temperature\")) \\\n",
    "    .orderBy(F.col(\"Lowest Temperature\").asc()) \\\n",
    "    .limit(10)\n",
    "\n",
    "coldest_days.show()"
   ],
   "id": "2975f4600b8eb3b8",
   "outputs": [
    {
     "name": "stdout",
     "output_type": "stream",
     "text": [
      "+----------+------------------+\n",
      "|      Date|Lowest Temperature|\n",
      "+----------+------------------+\n",
      "|2014-03-27|              -3.0|\n",
      "|2014-03-25|              -3.0|\n",
      "|2014-03-11|              -3.0|\n",
      "|2014-03-24|              -2.0|\n",
      "|2014-04-16|              -1.0|\n",
      "|2014-03-30|              -1.0|\n",
      "|2014-03-12|              -1.0|\n",
      "|2014-03-13|               0.0|\n",
      "|2014-03-26|               0.0|\n",
      "|2014-03-31|               0.0|\n",
      "+----------+------------------+\n",
      "\n"
     ]
    }
   ],
   "execution_count": 122
  },
  {
   "metadata": {},
   "cell_type": "markdown",
   "source": "Similarly, to find the hottest days, we'll get the 10 unique ones with the highest temperatures.",
   "id": "9ab55eca72ada96c"
  },
  {
   "metadata": {
    "ExecuteTime": {
     "end_time": "2024-09-23T12:33:57.800834Z",
     "start_time": "2024-09-23T12:33:57.361047Z"
    }
   },
   "cell_type": "code",
   "source": [
    "hottest_days = temp_df.filter(F.col(\"Temperature\").isNotNull()) \\\n",
    "    .groupBy(F.col(\"Timestamp\").cast(\"date\").alias(\"Date\")) \\\n",
    "    .agg(F.max(\"Temperature\").alias(\"Highest Temperature\")) \\\n",
    "    .orderBy(F.col(\"Highest Temperature\").desc()) \\\n",
    "    .limit(10)\n",
    "\n",
    "hottest_days.show()"
   ],
   "id": "bfa08ffd7617d67",
   "outputs": [
    {
     "name": "stdout",
     "output_type": "stream",
     "text": [
      "+----------+-------------------+\n",
      "|      Date|Highest Temperature|\n",
      "+----------+-------------------+\n",
      "|2014-05-22|               25.0|\n",
      "|2014-05-21|               24.0|\n",
      "|2014-05-30|               22.0|\n",
      "|2014-06-02|               22.0|\n",
      "|2014-06-08|               22.0|\n",
      "|2014-05-25|               21.0|\n",
      "|2014-04-29|               20.0|\n",
      "|2014-05-24|               20.0|\n",
      "|2014-05-26|               20.0|\n",
      "|2014-05-17|               20.0|\n",
      "+----------+-------------------+\n",
      "\n"
     ]
    }
   ],
   "execution_count": 123
  },
  {
   "metadata": {},
   "cell_type": "markdown",
   "source": [
    "### Q3 - The month with the highest humidity standard deviation\n",
    "\n",
    "We will calculate the standard deviation of the humidity for each month and then get the month with the highest standard deviation."
   ],
   "id": "92d9c5cd5a285d2f"
  },
  {
   "metadata": {
    "ExecuteTime": {
     "end_time": "2024-09-23T12:33:58.131032Z",
     "start_time": "2024-09-23T12:33:57.863233Z"
    }
   },
   "cell_type": "code",
   "source": [
    "from calendar import month_name\n",
    "\n",
    "hum_std_df = hum_df \\\n",
    "    .groupBy(F.month(\"Timestamp\").alias(\"Month\")) \\\n",
    "    .agg(F.stddev(\"Humidity\").alias(\"Standard Deviation\")) \\\n",
    "    .orderBy(F.col(\"Standard Deviation\").desc()) \\\n",
    "    .limit(1)\n",
    "\n",
    "result_row = hum_std_df.first()\n",
    "month_num = result_row['Month']\n",
    "std_dev = result_row['Standard Deviation']\n",
    "month = month_name[month_num]\n",
    "\n",
    "print(f\"The month with the highest standard deviation in humidity was {month} with {std_dev:.2f}.\")"
   ],
   "id": "fee79418ef705b34",
   "outputs": [
    {
     "name": "stdout",
     "output_type": "stream",
     "text": [
      "The month with the highest standard deviation in humidity was April with 17.73.\n"
     ]
    }
   ],
   "execution_count": 124
  },
  {
   "metadata": {},
   "cell_type": "markdown",
   "source": [
    "### Q4 - The minimum and maximum discomfort index\n",
    "\n",
    "We'll calculate the discomfort index for all timestamps recorded and get the minimum and maximum."
   ],
   "id": "b380bbb095f47779"
  },
  {
   "metadata": {
    "ExecuteTime": {
     "end_time": "2024-09-23T12:33:58.922443Z",
     "start_time": "2024-09-23T12:33:58.196575Z"
    }
   },
   "cell_type": "code",
   "source": [
    "di_expr = F.col('Temperature') - 0.55 * (1 - 0.01 * F.col('Humidity')) * (F.col('Temperature') - 14.5)\n",
    "\n",
    "discomfort_df = temp_df.join(hum_df, on='Timestamp').withColumn('Discomfort Index', F.round(di_expr, 2))\n",
    "discomfort_df = discomfort_df.na.drop(how=\"any\")\n",
    "\n",
    "min_di_row = discomfort_df.orderBy('Discomfort Index').first()\n",
    "max_di_row = discomfort_df.orderBy(F.desc('Discomfort Index')).first()\n",
    "\n",
    "print(f\"The minimum DI was {min_di_row['Discomfort Index']} on {min_di_row['Timestamp']}.\")\n",
    "print(f\"The maximum DI was {max_di_row['Discomfort Index']} on {max_di_row['Timestamp']}.\")"
   ],
   "id": "1110b6a5da982e7f",
   "outputs": [
    {
     "name": "stdout",
     "output_type": "stream",
     "text": [
      "The minimum DI was -2.33 on 2014-03-11 07:20:00.\n",
      "The maximum DI was 22.11 on 2014-05-22 14:20:00.\n"
     ]
    }
   ],
   "execution_count": 125
  },
  {
   "metadata": {},
   "cell_type": "markdown",
   "source": "## Stop",
   "id": "8e3bb0b281208160"
  },
  {
   "metadata": {
    "ExecuteTime": {
     "end_time": "2024-09-23T12:33:59.276149Z",
     "start_time": "2024-09-23T12:33:58.947529Z"
    }
   },
   "cell_type": "code",
   "outputs": [],
   "execution_count": 126,
   "source": "spark.stop()",
   "id": "932195a37c3c9ce0"
  }
 ],
 "metadata": {
  "kernelspec": {
   "display_name": "Python 3",
   "language": "python",
   "name": "python3"
  },
  "language_info": {
   "codemirror_mode": {
    "name": "ipython",
    "version": 2
   },
   "file_extension": ".py",
   "mimetype": "text/x-python",
   "name": "python",
   "nbconvert_exporter": "python",
   "pygments_lexer": "ipython2",
   "version": "2.7.6"
  }
 },
 "nbformat": 4,
 "nbformat_minor": 5
}
