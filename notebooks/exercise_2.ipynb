{
 "cells": [
  {
   "metadata": {},
   "cell_type": "markdown",
   "source": "# Exercise 2",
   "id": "7e096f034767d07d"
  },
  {
   "metadata": {},
   "cell_type": "markdown",
   "source": "## Setup",
   "id": "e22cc942bd7f8d18"
  },
  {
   "cell_type": "code",
   "id": "5f94c746c7f9768d",
   "metadata": {
    "ExecuteTime": {
     "end_time": "2024-10-24T19:21:36.782863Z",
     "start_time": "2024-10-24T19:21:36.582250Z"
    }
   },
   "source": [
    "from pyspark.sql import SparkSession, DataFrame\n",
    "from pyspark.sql import functions as F"
   ],
   "outputs": [],
   "execution_count": 1
  },
  {
   "metadata": {
    "ExecuteTime": {
     "end_time": "2024-10-24T19:21:36.797151Z",
     "start_time": "2024-10-24T19:21:36.793869Z"
    }
   },
   "cell_type": "code",
   "source": [
    "agn_file_path = '../data/agn.us.csv'\n",
    "ainv_file_path = '../data/ainv.us.csv'\n",
    "ale_file_path = '../data/ale.us.csv'"
   ],
   "id": "b153f6bbd4fb1457",
   "outputs": [],
   "execution_count": 2
  },
  {
   "metadata": {
    "ExecuteTime": {
     "end_time": "2024-10-24T19:21:42.597622Z",
     "start_time": "2024-10-24T19:21:36.877397Z"
    }
   },
   "cell_type": "code",
   "source": [
    "spark = SparkSession.builder.appName('Exercise 2').getOrCreate()\n",
    "\n",
    "spark"
   ],
   "id": "a87f8dcdf9359dcb",
   "outputs": [
    {
     "data": {
      "text/plain": [
       "<pyspark.sql.session.SparkSession at 0x24162c4e550>"
      ],
      "text/html": [
       "\n",
       "            <div>\n",
       "                <p><b>SparkSession - in-memory</b></p>\n",
       "                \n",
       "        <div>\n",
       "            <p><b>SparkContext</b></p>\n",
       "\n",
       "            <p><a href=\"http://George-Desktop.mshome.net:4040\">Spark UI</a></p>\n",
       "\n",
       "            <dl>\n",
       "              <dt>Version</dt>\n",
       "                <dd><code>v3.4.1</code></dd>\n",
       "              <dt>Master</dt>\n",
       "                <dd><code>local[*]</code></dd>\n",
       "              <dt>AppName</dt>\n",
       "                <dd><code>Exercise 2</code></dd>\n",
       "            </dl>\n",
       "        </div>\n",
       "        \n",
       "            </div>\n",
       "        "
      ]
     },
     "execution_count": 3,
     "metadata": {},
     "output_type": "execute_result"
    }
   ],
   "execution_count": 3
  },
  {
   "metadata": {},
   "cell_type": "markdown",
   "source": "## Data Loading",
   "id": "2a964ffbc7e1d11f"
  },
  {
   "metadata": {
    "ExecuteTime": {
     "end_time": "2024-10-24T19:21:47.398428Z",
     "start_time": "2024-10-24T19:21:42.633552Z"
    }
   },
   "cell_type": "code",
   "source": [
    "agn_df = spark.read.csv(agn_file_path, header=True, inferSchema=True)\n",
    "ainv_df = spark.read.csv(ainv_file_path, header=True, inferSchema=True)\n",
    "ale_df = spark.read.csv(ale_file_path, header=True, inferSchema=True)"
   ],
   "id": "5bedea0d1ffa9a28",
   "outputs": [],
   "execution_count": 4
  },
  {
   "metadata": {
    "ExecuteTime": {
     "end_time": "2024-10-24T19:21:47.754450Z",
     "start_time": "2024-10-24T19:21:47.408434Z"
    }
   },
   "cell_type": "code",
   "source": "agn_df.show(5)",
   "id": "d588072bba750d19",
   "outputs": [
    {
     "name": "stdout",
     "output_type": "stream",
     "text": [
      "+----------+------+------+------+------+-------+-------+\n",
      "|      Date|  Open|  High|   Low| Close| Volume|OpenInt|\n",
      "+----------+------+------+------+------+-------+-------+\n",
      "|2005-01-03| 32.31| 32.31|31.527|31.616|1027044|      0|\n",
      "|2005-01-04|31.527|31.616| 31.22|31.338|1927762|      0|\n",
      "|2005-01-05|30.971|31.051|30.714|30.843| 943399|      0|\n",
      "|2005-01-06|30.843|31.398|30.764| 31.26| 662398|      0|\n",
      "|2005-01-07| 31.26| 31.26|30.456|30.566|1087886|      0|\n",
      "+----------+------+------+------+------+-------+-------+\n",
      "only showing top 5 rows\n",
      "\n"
     ]
    }
   ],
   "execution_count": 5
  },
  {
   "metadata": {
    "ExecuteTime": {
     "end_time": "2024-10-24T19:21:47.917612Z",
     "start_time": "2024-10-24T19:21:47.792146Z"
    }
   },
   "cell_type": "code",
   "source": "ainv_df.show(5)",
   "id": "c79cfdde1dbcb5e",
   "outputs": [
    {
     "name": "stdout",
     "output_type": "stream",
     "text": [
      "+----------+------+------+------+------+------+-------+\n",
      "|      Date|  Open|  High|   Low| Close|Volume|OpenInt|\n",
      "+----------+------+------+------+------+------+-------+\n",
      "|2005-02-25|7.9331|8.0665|7.8034|8.0665|632096|      0|\n",
      "|2005-02-28|8.0756|8.1248|7.8524|7.8615|750398|      0|\n",
      "|2005-03-01|7.8673|8.1101|7.8524|8.0756|977229|      0|\n",
      "|2005-03-02|8.0385|8.1335|8.0385|8.0625|837318|      0|\n",
      "|2005-03-03|8.0625| 8.148|8.0287|8.0996|541465|      0|\n",
      "+----------+------+------+------+------+------+-------+\n",
      "only showing top 5 rows\n",
      "\n"
     ]
    }
   ],
   "execution_count": 6
  },
  {
   "metadata": {
    "collapsed": true,
    "ExecuteTime": {
     "end_time": "2024-10-24T19:21:48.237117Z",
     "start_time": "2024-10-24T19:21:48.059530Z"
    }
   },
   "cell_type": "code",
   "source": "ale_df.show(5)",
   "id": "initial_id",
   "outputs": [
    {
     "name": "stdout",
     "output_type": "stream",
     "text": [
      "+----------+------+------+------+------+------+-------+\n",
      "|      Date|  Open|  High|   Low| Close|Volume|OpenInt|\n",
      "+----------+------+------+------+------+------+-------+\n",
      "|2005-02-25|30.717|31.104|  30.6|31.087|214817|      0|\n",
      "|2005-02-28|31.073|31.087|30.652|  30.7|180957|      0|\n",
      "|2005-03-01|30.659|30.946|30.606|30.946|223738|      0|\n",
      "|2005-03-02|30.908|31.179|30.884|31.073|238730|      0|\n",
      "|2005-03-03|31.073|31.211|30.987|31.195|224381|      0|\n",
      "+----------+------+------+------+------+------+-------+\n",
      "only showing top 5 rows\n",
      "\n"
     ]
    }
   ],
   "execution_count": 7
  },
  {
   "metadata": {},
   "cell_type": "markdown",
   "source": "## Queries",
   "id": "fefa32ed0649839b"
  },
  {
   "metadata": {},
   "cell_type": "markdown",
   "source": "### Q1 - The monthly averages of the opening prices, closing prices and trading volumes for each stock",
   "id": "e74015f1b46788ac"
  },
  {
   "metadata": {
    "ExecuteTime": {
     "end_time": "2024-10-24T19:21:48.363223Z",
     "start_time": "2024-10-24T19:21:48.356153Z"
    }
   },
   "cell_type": "code",
   "source": [
    "def monthly_avg(df):\n",
    "    df = df.withColumn('Month', F.month('Date')) \\\n",
    "        .withColumn('Year', F.year('Date')) \\\n",
    "        .groupBy('Year', 'Month') \\\n",
    "        .agg(F.avg('Open').alias('Average Open'), F.avg('Close').alias('Average Close'), F.avg('Volume').alias('Average Volume'))\n",
    "\n",
    "    df = df.withColumn('Average Open', F.round(df['Average Open'], 2))\n",
    "    df = df.withColumn('Average Close', F.round(df['Average Close'], 2))\n",
    "    df = df.withColumn('Average Volume', F.round(df['Average Volume'], 2))\n",
    "\n",
    "    df = df.sort('Year', 'Month')\n",
    "\n",
    "    return df"
   ],
   "id": "8775976f6d98d706",
   "outputs": [],
   "execution_count": 8
  },
  {
   "metadata": {
    "ExecuteTime": {
     "end_time": "2024-10-24T19:21:50.961766Z",
     "start_time": "2024-10-24T19:21:48.453196Z"
    }
   },
   "cell_type": "code",
   "source": [
    "agn_monthly_avg = monthly_avg(agn_df)\n",
    "agn_monthly_avg.show()"
   ],
   "id": "4f959100a3f4a0f4",
   "outputs": [
    {
     "name": "stdout",
     "output_type": "stream",
     "text": [
      "+----+-----+------------+-------------+--------------+\n",
      "|Year|Month|Average Open|Average Close|Average Volume|\n",
      "+----+-----+------------+-------------+--------------+\n",
      "|2005|    1|       30.35|        30.23|      895649.0|\n",
      "|2005|    2|       29.78|        29.77|    1457348.32|\n",
      "|2005|    3|       31.22|        31.21|     914340.27|\n",
      "|2005|    4|       30.48|        30.43|     825136.57|\n",
      "|2005|    5|       29.64|        29.67|    1181446.76|\n",
      "|2005|    6|       30.37|        30.34|     576798.73|\n",
      "|2005|    7|       29.65|        29.75|     861111.35|\n",
      "|2005|    8|       34.28|        34.29|    1071394.91|\n",
      "|2005|    9|       34.64|        34.72|     951379.29|\n",
      "|2005|   10|       35.05|        34.98|     933635.67|\n",
      "|2005|   11|       32.99|        32.99|     902174.81|\n",
      "|2005|   12|        32.6|        32.56|     828961.05|\n",
      "|2006|    1|       33.18|        33.22|     807458.65|\n",
      "|2006|    2|       31.29|        31.25|    1200371.05|\n",
      "|2006|    3|       29.06|        29.04|     996914.43|\n",
      "|2006|    4|       27.99|        27.94|     750714.84|\n",
      "|2006|    5|        26.7|        26.63|     1293915.0|\n",
      "|2006|    6|       24.12|        24.04|     989867.23|\n",
      "|2006|    7|       22.22|        22.19|     963285.75|\n",
      "|2006|    8|       24.15|         24.2|     909304.09|\n",
      "+----+-----+------------+-------------+--------------+\n",
      "only showing top 20 rows\n",
      "\n"
     ]
    }
   ],
   "execution_count": 9
  },
  {
   "metadata": {
    "ExecuteTime": {
     "end_time": "2024-10-24T19:21:52.535555Z",
     "start_time": "2024-10-24T19:21:50.999437Z"
    }
   },
   "cell_type": "code",
   "source": [
    "ainv_monthly_avg = monthly_avg(ainv_df)\n",
    "ainv_monthly_avg.show()"
   ],
   "id": "9431a5e1d657b875",
   "outputs": [
    {
     "name": "stdout",
     "output_type": "stream",
     "text": [
      "+----+-----+------------+-------------+--------------+\n",
      "|Year|Month|Average Open|Average Close|Average Volume|\n",
      "+----+-----+------------+-------------+--------------+\n",
      "|2005|    2|         8.0|         7.96|      691247.0|\n",
      "|2005|    3|        8.16|         8.16|     667090.86|\n",
      "|2005|    4|        7.96|         7.95|     815881.05|\n",
      "|2005|    5|        7.73|         7.76|     365223.57|\n",
      "|2005|    6|        8.44|         8.49|     662943.73|\n",
      "|2005|    7|        8.72|         8.76|     661470.85|\n",
      "|2005|    8|        9.12|         9.17|     873391.13|\n",
      "|2005|    9|        9.43|         9.44|     563145.14|\n",
      "|2005|   10|        8.96|         8.94|     677502.76|\n",
      "|2005|   11|        9.13|         9.12|     481479.24|\n",
      "|2005|   12|        8.91|         8.87|     685912.71|\n",
      "|2006|    1|        8.75|         8.74|     533957.05|\n",
      "|2006|    2|        9.11|          9.1|     761886.63|\n",
      "|2006|    3|        8.73|          8.7|    2146854.35|\n",
      "|2006|    4|        8.78|         8.79|     1262171.0|\n",
      "|2006|    5|        8.85|         8.86|    1158528.05|\n",
      "|2006|    6|        8.84|         8.82|    1118994.45|\n",
      "|2006|    7|        8.78|         8.78|      849014.9|\n",
      "|2006|    8|        9.31|         9.31|     832916.43|\n",
      "|2006|    9|         9.7|          9.7|     1066493.2|\n",
      "+----+-----+------------+-------------+--------------+\n",
      "only showing top 20 rows\n",
      "\n"
     ]
    }
   ],
   "execution_count": 10
  },
  {
   "metadata": {
    "ExecuteTime": {
     "end_time": "2024-10-24T19:21:53.884595Z",
     "start_time": "2024-10-24T19:21:52.601062Z"
    }
   },
   "cell_type": "code",
   "source": [
    "ale_monthly_avg = monthly_avg(ale_df)\n",
    "ale_monthly_avg.show()"
   ],
   "id": "5c63226957fd62c8",
   "outputs": [
    {
     "name": "stdout",
     "output_type": "stream",
     "text": [
      "+----+-----+------------+-------------+--------------+\n",
      "|Year|Month|Average Open|Average Close|Average Volume|\n",
      "+----+-----+------------+-------------+--------------+\n",
      "|2005|    2|        30.9|        30.89|      197887.0|\n",
      "|2005|    3|       32.55|        32.62|     282829.86|\n",
      "|2005|    4|       32.23|        32.23|     201695.62|\n",
      "|2005|    5|       35.06|        35.26|     241937.19|\n",
      "|2005|    6|       38.18|        38.25|     244023.91|\n",
      "|2005|    7|       38.01|        37.99|     176326.95|\n",
      "|2005|    8|       35.74|        35.66|     237297.39|\n",
      "|2005|    9|       34.27|        34.29|     215680.19|\n",
      "|2005|   10|       33.84|        33.76|     200767.43|\n",
      "|2005|   11|       34.24|        34.22|     117670.52|\n",
      "|2005|   12|       35.51|        35.41|     119306.43|\n",
      "|2006|    1|       34.99|        34.99|      99518.55|\n",
      "|2006|    2|       34.62|        34.71|     159199.53|\n",
      "|2006|    3|       35.72|        35.63|      147331.3|\n",
      "|2006|    4|       35.88|        35.86|     151082.79|\n",
      "|2006|    5|       35.94|        35.92|     196077.14|\n",
      "|2006|    6|       35.62|        35.66|     241044.95|\n",
      "|2006|    7|       37.04|        37.04|     263901.85|\n",
      "|2006|    8|       35.51|        35.47|     219769.65|\n",
      "|2006|    9|       34.39|        34.31|      164881.2|\n",
      "+----+-----+------------+-------------+--------------+\n",
      "only showing top 20 rows\n",
      "\n"
     ]
    }
   ],
   "execution_count": 11
  },
  {
   "metadata": {},
   "cell_type": "markdown",
   "source": "### Q2 - The number of days the opening price of each stock was higher than $35",
   "id": "e4ed3baf5c71e6d1"
  },
  {
   "metadata": {
    "ExecuteTime": {
     "end_time": "2024-10-24T19:21:53.961334Z",
     "start_time": "2024-10-24T19:21:53.952909Z"
    }
   },
   "cell_type": "code",
   "source": [
    "def days_higher_than(df: DataFrame, price: float, stock_name: str):\n",
    "    count = df.filter(df['Open'] > price).count()\n",
    "    print(f'The opening price of {stock_name} was higher than ${price} for {count} days.')"
   ],
   "id": "aa7e567dc77013fd",
   "outputs": [],
   "execution_count": 12
  },
  {
   "metadata": {
    "ExecuteTime": {
     "end_time": "2024-10-24T19:21:54.415229Z",
     "start_time": "2024-10-24T19:21:54.046824Z"
    }
   },
   "cell_type": "code",
   "source": "days_higher_than(agn_df, 35, 'AGN')",
   "id": "a760827011eb900c",
   "outputs": [
    {
     "name": "stdout",
     "output_type": "stream",
     "text": [
      "The opening price of AGN was higher than $35 for 2071 days.\n"
     ]
    }
   ],
   "execution_count": 13
  },
  {
   "metadata": {
    "ExecuteTime": {
     "end_time": "2024-10-24T19:21:54.643393Z",
     "start_time": "2024-10-24T19:21:54.476135Z"
    }
   },
   "cell_type": "code",
   "source": "days_higher_than(ainv_df, 35, 'AINV')",
   "id": "bdbf91134676656e",
   "outputs": [
    {
     "name": "stdout",
     "output_type": "stream",
     "text": [
      "The opening price of AINV was higher than $35 for 0 days.\n"
     ]
    }
   ],
   "execution_count": 14
  },
  {
   "metadata": {
    "ExecuteTime": {
     "end_time": "2024-10-24T19:21:54.840078Z",
     "start_time": "2024-10-24T19:21:54.679300Z"
    }
   },
   "cell_type": "code",
   "source": "days_higher_than(ale_df, 35, 'ALE')",
   "id": "9bf059ae03e9030",
   "outputs": [
    {
     "name": "stdout",
     "output_type": "stream",
     "text": [
      "The opening price of ALE was higher than $35 for 1667 days.\n"
     ]
    }
   ],
   "execution_count": 15
  },
  {
   "metadata": {},
   "cell_type": "markdown",
   "source": "### Q3 - The days each stock had the highest opening price and the highest volume",
   "id": "1e58669257aba8bd"
  },
  {
   "metadata": {
    "ExecuteTime": {
     "end_time": "2024-10-24T19:21:54.912873Z",
     "start_time": "2024-10-24T19:21:54.907378Z"
    }
   },
   "cell_type": "code",
   "source": [
    "def highest_opening_day(df: DataFrame, stock_name: str):\n",
    "    row = df.orderBy(F.col('Open').desc()).select('Date', 'Open').first()\n",
    "    return f\"The highest opening price of {stock_name} was ${row['Open']} on {row['Date']}.\"\n",
    "\n",
    "def highest_volume_day(df: DataFrame, stock_name: str):\n",
    "    row = df.orderBy(F.col('Volume').desc()).select('Date', 'Volume').first()\n",
    "    return f\"The highest trading volume of {stock_name} was {row['Volume']} on {row['Date']}.\""
   ],
   "id": "101f2f279d43f96f",
   "outputs": [],
   "execution_count": 16
  },
  {
   "metadata": {
    "ExecuteTime": {
     "end_time": "2024-10-24T19:21:55.306764Z",
     "start_time": "2024-10-24T19:21:54.945105Z"
    }
   },
   "cell_type": "code",
   "source": [
    "print(highest_opening_day(agn_df, 'AGN'))\n",
    "print(highest_volume_day(agn_df, 'AGN'))"
   ],
   "id": "62196925cb247544",
   "outputs": [
    {
     "name": "stdout",
     "output_type": "stream",
     "text": [
      "The highest opening price of AGN was $334.08 on 2015-07-30.\n",
      "The highest trading volume of AGN was 36807460 on 2016-04-05.\n"
     ]
    }
   ],
   "execution_count": 17
  },
  {
   "metadata": {
    "ExecuteTime": {
     "end_time": "2024-10-24T19:21:55.523123Z",
     "start_time": "2024-10-24T19:21:55.349182Z"
    }
   },
   "cell_type": "code",
   "source": [
    "print(highest_opening_day(ainv_df, 'AINV'))\n",
    "print(highest_volume_day(ainv_df, 'AINV'))"
   ],
   "id": "5a0cb634653cba41",
   "outputs": [
    {
     "name": "stdout",
     "output_type": "stream",
     "text": [
      "The highest opening price of AINV was $11.474 on 2007-02-20.\n",
      "The highest trading volume of AINV was 57522365 on 2014-02-28.\n"
     ]
    }
   ],
   "execution_count": 18
  },
  {
   "metadata": {
    "ExecuteTime": {
     "end_time": "2024-10-24T19:21:55.687138Z",
     "start_time": "2024-10-24T19:21:55.555117Z"
    }
   },
   "cell_type": "code",
   "source": [
    "print(highest_opening_day(ale_df, 'ALE'))\n",
    "print(highest_volume_day(ale_df, 'ALE'))"
   ],
   "id": "ef49713b0bcbc44f",
   "outputs": [
    {
     "name": "stdout",
     "output_type": "stream",
     "text": [
      "The highest opening price of ALE was $80.0 on 2017-11-01.\n",
      "The highest trading volume of ALE was 2118295 on 2014-02-27.\n"
     ]
    }
   ],
   "execution_count": 19
  },
  {
   "metadata": {},
   "cell_type": "markdown",
   "source": "### Q4 - The years each stock had the highest opening price and the lowest closing price",
   "id": "39e9f887e7aaff39"
  },
  {
   "metadata": {
    "ExecuteTime": {
     "end_time": "2024-10-24T19:21:55.729885Z",
     "start_time": "2024-10-24T19:21:55.724538Z"
    }
   },
   "cell_type": "code",
   "source": [
    "def highest_opening_year(df: DataFrame, stock_name: str):\n",
    "    row = df.orderBy(F.col('Open').desc()).select(F.year('Date').alias('Year'), 'Open').first()\n",
    "    print(f\"The highest opening price of {stock_name} was ${row['Open']} in {row['Year']}.\")\n",
    "\n",
    "def lowest_closing_year(df: DataFrame, stock_name: str):\n",
    "    row = df.orderBy(F.col('Close').asc()).select(F.year('Date').alias('Year'), 'Close').first()\n",
    "    print(f\"The lowest closing price of {stock_name} was ${row['Close']} in {row['Year']}.\")"
   ],
   "id": "9fa614427ee14afd",
   "outputs": [],
   "execution_count": 20
  },
  {
   "metadata": {
    "ExecuteTime": {
     "end_time": "2024-10-24T19:21:55.997066Z",
     "start_time": "2024-10-24T19:21:55.753997Z"
    }
   },
   "cell_type": "code",
   "source": [
    "highest_opening_year(agn_df, 'AGN')\n",
    "lowest_closing_year(agn_df, 'AGN')"
   ],
   "id": "2b57eb7b59d051fe",
   "outputs": [
    {
     "name": "stdout",
     "output_type": "stream",
     "text": [
      "The highest opening price of AGN was $334.08 in 2015.\n",
      "The lowest closing price of AGN was $20.575 in 2008.\n"
     ]
    }
   ],
   "execution_count": 21
  },
  {
   "metadata": {
    "ExecuteTime": {
     "end_time": "2024-10-24T19:21:56.230748Z",
     "start_time": "2024-10-24T19:21:56.084406Z"
    }
   },
   "cell_type": "code",
   "source": [
    "highest_opening_year(ainv_df, 'AINV')\n",
    "lowest_closing_year(ainv_df, 'AINV')"
   ],
   "id": "fb13c6370441e59c",
   "outputs": [
    {
     "name": "stdout",
     "output_type": "stream",
     "text": [
      "The highest opening price of AINV was $11.474 in 2007.\n",
      "The lowest closing price of AINV was $0.9797 in 2009.\n"
     ]
    }
   ],
   "execution_count": 22
  },
  {
   "metadata": {
    "ExecuteTime": {
     "end_time": "2024-10-24T19:21:56.529820Z",
     "start_time": "2024-10-24T19:21:56.351768Z"
    }
   },
   "cell_type": "code",
   "source": [
    "highest_opening_year(ale_df, 'ALE')\n",
    "lowest_closing_year(ale_df, 'ALE')"
   ],
   "id": "cc9035bcbdade36b",
   "outputs": [
    {
     "name": "stdout",
     "output_type": "stream",
     "text": [
      "The highest opening price of ALE was $80.0 in 2017.\n",
      "The lowest closing price of ALE was $18.29 in 2009.\n"
     ]
    }
   ],
   "execution_count": 23
  },
  {
   "metadata": {},
   "cell_type": "markdown",
   "source": "## Stop",
   "id": "94bf884c6936754e"
  },
  {
   "metadata": {
    "ExecuteTime": {
     "end_time": "2024-10-24T19:21:57.009716Z",
     "start_time": "2024-10-24T19:21:56.544685Z"
    }
   },
   "cell_type": "code",
   "source": "spark.stop()",
   "id": "6e696caf36ea5a84",
   "outputs": [],
   "execution_count": 24
  }
 ],
 "metadata": {
  "kernelspec": {
   "display_name": "Python 3",
   "language": "python",
   "name": "python3"
  },
  "language_info": {
   "codemirror_mode": {
    "name": "ipython",
    "version": 2
   },
   "file_extension": ".py",
   "mimetype": "text/x-python",
   "name": "python",
   "nbconvert_exporter": "python",
   "pygments_lexer": "ipython2",
   "version": "2.7.6"
  }
 },
 "nbformat": 4,
 "nbformat_minor": 5
}
