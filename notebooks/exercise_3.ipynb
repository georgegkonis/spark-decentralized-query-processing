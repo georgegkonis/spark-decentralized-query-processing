{
 "cells": [
  {
   "metadata": {},
   "cell_type": "markdown",
   "source": "# Exercise 3",
   "id": "dcbe67975e76bf77"
  },
  {
   "metadata": {},
   "cell_type": "markdown",
   "source": "## Setup",
   "id": "56e40f3266012931"
  },
  {
   "metadata": {
    "ExecuteTime": {
     "end_time": "2024-09-23T12:54:42.914737Z",
     "start_time": "2024-09-23T12:54:42.910010Z"
    }
   },
   "cell_type": "code",
   "source": [
    "from pyspark.sql import SparkSession\n",
    "from pyspark.sql import Window\n",
    "from pyspark.sql import functions as F"
   ],
   "id": "f84fe3a5798a13a9",
   "outputs": [],
   "execution_count": 25
  },
  {
   "metadata": {
    "ExecuteTime": {
     "end_time": "2024-09-23T12:54:42.969432Z",
     "start_time": "2024-09-23T12:54:42.966022Z"
    }
   },
   "cell_type": "code",
   "source": "file_path = '../data/tour_occ_ninat.p.csv'",
   "id": "57b8eb6053b18eb7",
   "outputs": [],
   "execution_count": 26
  },
  {
   "metadata": {
    "ExecuteTime": {
     "end_time": "2024-09-23T12:54:43.023204Z",
     "start_time": "2024-09-23T12:54:43.008031Z"
    }
   },
   "cell_type": "code",
   "source": [
    "spark = SparkSession.builder.appName(\"Exercise 3\").getOrCreate()\n",
    "\n",
    "spark"
   ],
   "id": "109511b42739240b",
   "outputs": [
    {
     "data": {
      "text/plain": [
       "<pyspark.sql.session.SparkSession at 0x272a302fe10>"
      ],
      "text/html": [
       "\n",
       "            <div>\n",
       "                <p><b>SparkSession - in-memory</b></p>\n",
       "                \n",
       "        <div>\n",
       "            <p><b>SparkContext</b></p>\n",
       "\n",
       "            <p><a href=\"http://George-Desktop.mshome.net:4046\">Spark UI</a></p>\n",
       "\n",
       "            <dl>\n",
       "              <dt>Version</dt>\n",
       "                <dd><code>v3.4.1</code></dd>\n",
       "              <dt>Master</dt>\n",
       "                <dd><code>local[*]</code></dd>\n",
       "              <dt>AppName</dt>\n",
       "                <dd><code>Exercise 3</code></dd>\n",
       "            </dl>\n",
       "        </div>\n",
       "        \n",
       "            </div>\n",
       "        "
      ]
     },
     "execution_count": 27,
     "metadata": {},
     "output_type": "execute_result"
    }
   ],
   "execution_count": 27
  },
  {
   "metadata": {},
   "cell_type": "markdown",
   "source": "## Data Loading",
   "id": "d79169b633f795d9"
  },
  {
   "metadata": {
    "ExecuteTime": {
     "end_time": "2024-09-23T12:54:43.320425Z",
     "start_time": "2024-09-23T12:54:43.062191Z"
    }
   },
   "cell_type": "code",
   "source": [
    "df = spark.read.csv(file_path, header=True, inferSchema=True)\n",
    "\n",
    "df.show()"
   ],
   "id": "d2f7573f0f701127",
   "outputs": [
    {
     "name": "stdout",
     "output_type": "stream",
     "text": [
      "+--------------+---------+---------+---------+---------+---------+---------+---------+---------+---------+---------+\n",
      "|       Country|     2006|     2007|     2008|     2009|     2010|     2011|     2012|     2013|     2014|     2015|\n",
      "+--------------+---------+---------+---------+---------+---------+---------+---------+---------+---------+---------+\n",
      "|       Belgium| 16039090| 16271311| 16360702| 15451017| 16169676| 16723867| 16432646| 16511721| 17068872| 18852087|\n",
      "|      Bulgaria| 11944694| 12006786| 11791454|  9460922| 10547112| 12426723| 13451440| 14370426| 14077798| 13352281|\n",
      "|Czech Republic| 20090348| 20610186| 19987022| 17746893| 18365947| 19424839| 21793985| 22144896| 22110112| 23286515|\n",
      "|       Denmark|  9453026|  9327579|  8918197|  8299403|  8981992|  9491137|  9608124|  9914273| 10608119| 11171416|\n",
      "|       Germany| 52947373| 54485379| 56239679| 54096574| 59658760| 63081467| 68161503| 71191942| 74805253| 78827773|\n",
      "|       Estonia|  3020367|  2915456|  2932662|  2740696|  3203721|  3748865|  3823039|  3909326|  3919299|  3770207|\n",
      "|       Ireland| 21652000|     null|     null|     null|     null|     null| 11839245| 10871806| 11276424| 13462348|\n",
      "|        Greece| 43055381| 48081473| 47973949| 57413304| 59184397| 65514230| 61054383| 68992640| 74675156| 78254524|\n",
      "|         Spain|224518083|225450241|223756216|200551728|213349649|239369167|243389006|252447766|259635794|269418103|\n",
      "|        France|105865432|108567043|106993811| 98705212|120390105|123227704|125038453|132251136|130908700|130464997|\n",
      "|       Croatia| 32858014| 33701925| 33902735| 33357844| 33234882| 35389002| 57079967| 59378896| 61072661| 65683010|\n",
      "|         Italy|156861341|163465680|161797434|159493866|165202498|176474062|180594988|184793382|186792507|192607930|\n",
      "|        Cyprus| 13310257| 13197004| 13208954| 11666663| 12448158| 13112596| 13488127| 13152589| 12884399| 12550320|\n",
      "|        Latvia|  1872393|  1935984|  2115618|  1699562|  1912336|  2257021|  2429093|  2639434|  2875934|  2873885|\n",
      "|     Lithuania|  1514197|  1609998|  1626829|  1395899|  1571325|  1883003|  2680048|  2906201|  3033826|  3010727|\n",
      "|    Luxembourg|  2399913|  2328688|  2249545|  2075831|  1717130|  2057883|  2298068|  2313124|  2513585|  2655733|\n",
      "|       Hungary| 10045891| 10170808| 10009531|  9220148|  9358373|  9920339| 11392183| 11982883| 12351330| 12962395|\n",
      "|         Malta|  7094031|  7749831|  7581137|  6550794|  7208295|  7361449|  7498421|  8172407|  8428215|  8542055|\n",
      "|   Netherlands| 26886500| 27952200| 25267600| 25013700| 26799800| 27739000| 27845942| 31770508| 34423552| 37297588|\n",
      "|       Austria| 70017089| 71518637| 74730956| 72224605| 72585976| 73647325| 77158431| 78433546| 78099096| 80304956|\n",
      "+--------------+---------+---------+---------+---------+---------+---------+---------+---------+---------+---------+\n",
      "only showing top 20 rows\n",
      "\n"
     ]
    }
   ],
   "execution_count": 28
  },
  {
   "metadata": {},
   "cell_type": "markdown",
   "source": [
    "### Flattening the DataFrame\n",
    "\n",
    "We'll flatten the DataFrame by stacking the columns representing years into rows. This will allow to perform operations on the data more easily."
   ],
   "id": "45e9c75e244353de"
  },
  {
   "metadata": {
    "ExecuteTime": {
     "end_time": "2024-09-23T12:54:43.423105Z",
     "start_time": "2024-09-23T12:54:43.349589Z"
    }
   },
   "cell_type": "code",
   "source": [
    "year_cols = df.columns[1:]\n",
    "\n",
    "stack_expr = \", \".join([f\"'{c}', `{c}`\" for c in year_cols])\n",
    "stack_str = f\"stack({len(year_cols)}, {stack_expr}) as (Year, Nights)\"\n",
    "\n",
    "flat_df = df.select('Country', F.expr(stack_str))\n",
    "flat_df = flat_df.filter(F.col('Nights').isNotNull())\n",
    "\n",
    "flat_df.show()"
   ],
   "id": "24294e9fa916ffff",
   "outputs": [
    {
     "name": "stdout",
     "output_type": "stream",
     "text": [
      "+--------+----+--------+\n",
      "| Country|Year|  Nights|\n",
      "+--------+----+--------+\n",
      "| Belgium|2006|16039090|\n",
      "| Belgium|2007|16271311|\n",
      "| Belgium|2008|16360702|\n",
      "| Belgium|2009|15451017|\n",
      "| Belgium|2010|16169676|\n",
      "| Belgium|2011|16723867|\n",
      "| Belgium|2012|16432646|\n",
      "| Belgium|2013|16511721|\n",
      "| Belgium|2014|17068872|\n",
      "| Belgium|2015|18852087|\n",
      "|Bulgaria|2006|11944694|\n",
      "|Bulgaria|2007|12006786|\n",
      "|Bulgaria|2008|11791454|\n",
      "|Bulgaria|2009| 9460922|\n",
      "|Bulgaria|2010|10547112|\n",
      "|Bulgaria|2011|12426723|\n",
      "|Bulgaria|2012|13451440|\n",
      "|Bulgaria|2013|14370426|\n",
      "|Bulgaria|2014|14077798|\n",
      "|Bulgaria|2015|13352281|\n",
      "+--------+----+--------+\n",
      "only showing top 20 rows\n",
      "\n"
     ]
    }
   ],
   "execution_count": 29
  },
  {
   "metadata": {},
   "cell_type": "markdown",
   "source": "## Queries",
   "id": "f245f38ff75196b0"
  },
  {
   "metadata": {},
   "cell_type": "markdown",
   "source": [
    "### Q1 - The average number of nights spent per country between 2007 and 2015\n",
    "\n",
    "We'll calculate the average number of nights spent per country between 2007 and 2015."
   ],
   "id": "755b3cd2e4ac5c0"
  },
  {
   "metadata": {
    "ExecuteTime": {
     "end_time": "2024-09-23T12:54:43.905399Z",
     "start_time": "2024-09-23T12:54:43.584003Z"
    }
   },
   "cell_type": "code",
   "source": [
    "avg_nights_df = flat_df \\\n",
    "    .filter(F.col('Year').between(2007, 2015)) \\\n",
    "    .groupBy('Country') \\\n",
    "    .agg(F.avg('Nights').alias('Average Nights')) \\\n",
    "    .orderBy(F.col('Average Nights').desc())\n",
    "\n",
    "avg_nights_df = avg_nights_df.withColumn('Average Nights', F.format_number('Average Nights', 0))\n",
    "\n",
    "avg_nights_df.show(100, False)"
   ],
   "id": "806f9d477962f173",
   "outputs": [
    {
     "name": "stdout",
     "output_type": "stream",
     "text": [
      "+--------------+--------------+\n",
      "|Country       |Average Nights|\n",
      "+--------------+--------------+\n",
      "|Spain         |236,374,186   |\n",
      "|Italy         |174,580,261   |\n",
      "|France        |119,616,351   |\n",
      "|Turkey        |94,525,217    |\n",
      "|United Kingdom|87,177,340    |\n",
      "|Austria       |75,411,503    |\n",
      "|Germany       |64,505,370    |\n",
      "|Greece        |62,349,340    |\n",
      "|Croatia       |45,866,769    |\n",
      "|Portugal      |30,078,644    |\n",
      "|Netherlands   |29,345,543    |\n",
      "|Czech Republic|20,607,822    |\n",
      "|Belgium       |16,649,100    |\n",
      "|Cyprus        |12,856,534    |\n",
      "|Bulgaria      |12,387,216    |\n",
      "|Ireland       |11,862,456    |\n",
      "|Sweden        |11,620,353    |\n",
      "|Poland        |11,387,049    |\n",
      "|Hungary       |10,818,666    |\n",
      "|Denmark       |9,591,138     |\n",
      "|Norway        |8,065,221     |\n",
      "|Malta         |7,676,956     |\n",
      "|Montenegro    |7,064,597     |\n",
      "|Finland       |5,457,530     |\n",
      "|Slovenia      |5,373,349     |\n",
      "|Slovakia      |4,251,239     |\n",
      "|Estonia       |3,440,363     |\n",
      "|Romania       |3,381,328     |\n",
      "|Iceland       |2,942,819     |\n",
      "|Latvia        |2,304,319     |\n",
      "|Luxembourg    |2,245,510     |\n",
      "|Lithuania     |2,190,873     |\n",
      "|Serbia        |2,030,645     |\n",
      "|FYROM         |752,952       |\n",
      "|Liechtenstein |145,146       |\n",
      "+--------------+--------------+\n",
      "\n"
     ]
    }
   ],
   "execution_count": 30
  },
  {
   "metadata": {},
   "cell_type": "markdown",
   "source": "### Q2 - The years in which the number of nights spent in Greece was greater than the number of nights spent in 5 other countries",
   "id": "eec0f9b11901f355"
  },
  {
   "metadata": {
    "ExecuteTime": {
     "end_time": "2024-09-23T12:54:47.298691Z",
     "start_time": "2024-09-23T12:54:43.961624Z"
    }
   },
   "cell_type": "code",
   "source": [
    "pivot_df = flat_df.groupBy('Year').pivot('Country').agg(F.first('Nights'))\n",
    "\n",
    "for country in ['Poland', 'Romania', 'Germany', 'Sweden', 'Spain']:\n",
    "    comparison_df = pivot_df.filter(F.col('Greece') > F.col(country))\n",
    "    years = [row['Year'] for row in comparison_df.select('Year').collect()]\n",
    "\n",
    "    print(f'Greece had more nights spent than {country} for {len(years)} years.')\n",
    "    print('These years were: ', years)"
   ],
   "id": "383448f68b33fc8",
   "outputs": [
    {
     "name": "stdout",
     "output_type": "stream",
     "text": [
      "Greece had more nights spent than Poland for 10 years.\n",
      "These years were:  ['2012', '2014', '2013', '2009', '2006', '2011', '2008', '2007', '2015', '2010']\n",
      "Greece had more nights spent than Romania for 10 years.\n",
      "These years were:  ['2012', '2014', '2013', '2009', '2006', '2011', '2008', '2007', '2015', '2010']\n",
      "Greece had more nights spent than Germany for 2 years.\n",
      "These years were:  ['2009', '2011']\n",
      "Greece had more nights spent than Sweden for 10 years.\n",
      "These years were:  ['2012', '2014', '2013', '2009', '2006', '2011', '2008', '2007', '2015', '2010']\n",
      "Greece had more nights spent than Spain for 0 years.\n",
      "These years were:  []\n"
     ]
    }
   ],
   "execution_count": 31
  },
  {
   "metadata": {},
   "cell_type": "markdown",
   "source": "### Q3 - The country with the highest number of nights spent for each year",
   "id": "1c782228c1fc9810"
  },
  {
   "metadata": {
    "ExecuteTime": {
     "end_time": "2024-09-23T12:54:47.567479Z",
     "start_time": "2024-09-23T12:54:47.319143Z"
    }
   },
   "cell_type": "code",
   "source": [
    "window_spec = Window.partitionBy('Year').orderBy(F.desc('Nights'))\n",
    "\n",
    "top_countries_df = flat_df.withColumn('rank', F.row_number().over(window_spec)) \\\n",
    "    .filter(F.col('rank') == 1) \\\n",
    "    .select('Year', 'Country', 'Nights')\n",
    "\n",
    "top_countries_df = top_countries_df.withColumn('Nights', F.format_number('Nights', 0))\n",
    "\n",
    "top_countries_df.show()"
   ],
   "id": "8a728da43182c932",
   "outputs": [
    {
     "name": "stdout",
     "output_type": "stream",
     "text": [
      "+----+-------+-----------+\n",
      "|Year|Country|     Nights|\n",
      "+----+-------+-----------+\n",
      "|2006|  Spain|224,518,083|\n",
      "|2007|  Spain|225,450,241|\n",
      "|2008|  Spain|223,756,216|\n",
      "|2009|  Spain|200,551,728|\n",
      "|2010|  Spain|213,349,649|\n",
      "|2011|  Spain|239,369,167|\n",
      "|2012|  Spain|243,389,006|\n",
      "|2013|  Spain|252,447,766|\n",
      "|2014|  Spain|259,635,794|\n",
      "|2015|  Spain|269,418,103|\n",
      "+----+-------+-----------+\n",
      "\n"
     ]
    }
   ],
   "execution_count": 32
  },
  {
   "metadata": {},
   "cell_type": "markdown",
   "source": "### Q4 - The years each country had the lowest number of nights among all countries.",
   "id": "79abed233e66bed5"
  },
  {
   "metadata": {
    "ExecuteTime": {
     "end_time": "2024-09-23T12:54:47.889375Z",
     "start_time": "2024-09-23T12:54:47.615118Z"
    }
   },
   "cell_type": "code",
   "source": [
    "window_spec = Window.partitionBy('Year').orderBy(F.col('Nights').asc())\n",
    "\n",
    "ranked_df = flat_df.withColumn('Rank', F.row_number().over(window_spec))\n",
    "\n",
    "min_nights_per_year = ranked_df.filter(F.col('rank') == 1).select('Year', 'Country', 'Nights')\n",
    "\n",
    "result_df = min_nights_per_year.groupBy('Country').agg(F.collect_list('Year').alias('Years'))\n",
    "\n",
    "result_df.show(truncate=False)"
   ],
   "id": "d91bcbd40fc34018",
   "outputs": [
    {
     "name": "stdout",
     "output_type": "stream",
     "text": [
      "+-------------+------------------------------------------------------------+\n",
      "|Country      |Years                                                       |\n",
      "+-------------+------------------------------------------------------------+\n",
      "|Liechtenstein|[2006, 2007, 2008, 2009, 2010, 2011, 2012, 2013, 2014, 2015]|\n",
      "+-------------+------------------------------------------------------------+\n",
      "\n"
     ]
    }
   ],
   "execution_count": 33
  },
  {
   "metadata": {},
   "cell_type": "markdown",
   "source": "## Stop",
   "id": "43624b6bc4506de"
  },
  {
   "metadata": {
    "ExecuteTime": {
     "end_time": "2024-09-23T12:54:48.619726Z",
     "start_time": "2024-09-23T12:54:47.907332Z"
    }
   },
   "cell_type": "code",
   "source": "spark.stop()",
   "id": "30c6f2320db17082",
   "outputs": [],
   "execution_count": 34
  }
 ],
 "metadata": {
  "kernelspec": {
   "display_name": "Python 3",
   "language": "python",
   "name": "python3"
  },
  "language_info": {
   "codemirror_mode": {
    "name": "ipython",
    "version": 2
   },
   "file_extension": ".py",
   "mimetype": "text/x-python",
   "name": "python",
   "nbconvert_exporter": "python",
   "pygments_lexer": "ipython2",
   "version": "2.7.6"
  }
 },
 "nbformat": 4,
 "nbformat_minor": 5
}
